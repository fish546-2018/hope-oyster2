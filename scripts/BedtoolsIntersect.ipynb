{
 "cells": [
  {
   "cell_type": "code",
   "execution_count": null,
   "metadata": {},
   "outputs": [],
   "source": [
    "!bedtools intersect -a /Users/hopeloiselle/Documents/GitHub/hope-oyster2/data/annotated.gff \\\n",
    "-b /Users/hopeloiselle/Documents/GitHub/hope-oyster2/analyses/sample1.vcf \\\n",
    "> /Users/hopeloiselle/Documents/GitHub/hope-oyster2/analyses/sample1SNPlocations.txt\n"
   ]
  },
  {
   "cell_type": "code",
   "execution_count": 1,
   "metadata": {},
   "outputs": [
    {
     "name": "stdout",
     "output_type": "stream",
     "text": [
      "Error: line number 170885 of file /Users/hopeloiselle/Documents/GitHub/hope-oyster2/data/annotated.gff has 6 fields, but 9 were expected.\r\n"
     ]
    }
   ],
   "source": [
    "!bedtools intersect -a /Users/hopeloiselle/Documents/GitHub/hope-oyster2/data/annotated.gff \\\n",
    "-b /Users/hopeloiselle/Documents/GitHub/hope-oyster2/analyses/sample2.vcf \\\n",
    "> /Users/hopeloiselle/Documents/GitHub/hope-oyster2/analyses/sample2SNPlocations.txt\n",
    "\n"
   ]
  },
  {
   "cell_type": "code",
   "execution_count": null,
   "metadata": {},
   "outputs": [],
   "source": []
  }
 ],
 "metadata": {
  "kernelspec": {
   "display_name": "Python 3",
   "language": "python",
   "name": "python3"
  },
  "language_info": {
   "codemirror_mode": {
    "name": "ipython",
    "version": 3
   },
   "file_extension": ".py",
   "mimetype": "text/x-python",
   "name": "python",
   "nbconvert_exporter": "python",
   "pygments_lexer": "ipython3",
   "version": "3.7.0"
  }
 },
 "nbformat": 4,
 "nbformat_minor": 2
}
