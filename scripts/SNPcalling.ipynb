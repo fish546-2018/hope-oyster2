{
 "cells": [
  {
   "cell_type": "code",
   "execution_count": 5,
   "metadata": {},
   "outputs": [
    {
     "name": "stdout",
     "output_type": "stream",
     "text": [
      "[E::hts_open_format] Failed to open file sample1.bam\r\n",
      "[mpileup] failed to open sample1.bam: No such file or directory\r\n"
     ]
    }
   ],
   "source": [
    "!samtools mpileup sample1.bam"
   ]
  },
  {
   "cell_type": "code",
   "execution_count": 2,
   "metadata": {},
   "outputs": [
    {
     "name": "stdout",
     "output_type": "stream",
     "text": [
      "/Users/hopeloiselle/Documents/GitHub/hope-oyster2/scripts\r\n"
     ]
    }
   ],
   "source": [
    "!pwd"
   ]
  },
  {
   "cell_type": "code",
   "execution_count": 15,
   "metadata": {},
   "outputs": [],
   "source": [
    "!cd /Users/hopeloiselle/Documents/"
   ]
  },
  {
   "cell_type": "code",
   "execution_count": null,
   "metadata": {},
   "outputs": [],
   "source": [
    "!samtools sort analyses/sample1.bam -o analyses/sample1.sorted.bam"
   ]
  },
  {
   "cell_type": "code",
   "execution_count": 20,
   "metadata": {},
   "outputs": [
    {
     "name": "stdout",
     "output_type": "stream",
     "text": [
      "@HD\tVN:1.0\tSO:unsorted\r\n",
      "@SQ\tSN:Contig0\tLN:116746\r\n",
      "@SQ\tSN:Contig1\tLN:87411\r\n",
      "@SQ\tSN:Contig2\tLN:139250\r\n",
      "@SQ\tSN:Contig3\tLN:141657\r\n",
      "@SQ\tSN:Contig4\tLN:95692\r\n",
      "@SQ\tSN:Contig5\tLN:130522\r\n",
      "@SQ\tSN:Contig6\tLN:94893\r\n",
      "@SQ\tSN:Contig7\tLN:109667\r\n",
      "@SQ\tSN:Contig8\tLN:95943\r\n"
     ]
    }
   ],
   "source": [
    "!head analyses/sample1.bam"
   ]
  },
  {
   "cell_type": "code",
   "execution_count": null,
   "metadata": {},
   "outputs": [],
   "source": []
  }
 ],
 "metadata": {
  "kernelspec": {
   "display_name": "Python 3",
   "language": "python",
   "name": "python3"
  },
  "language_info": {
   "codemirror_mode": {
    "name": "ipython",
    "version": 3
   },
   "file_extension": ".py",
   "mimetype": "text/x-python",
   "name": "python",
   "nbconvert_exporter": "python",
   "pygments_lexer": "ipython3",
   "version": "3.7.0"
  }
 },
 "nbformat": 4,
 "nbformat_minor": 2
}
