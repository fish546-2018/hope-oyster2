{
 "cells": [
  {
   "cell_type": "code",
   "execution_count": 12,
   "metadata": {},
   "outputs": [
    {
     "name": "stdout",
     "output_type": "stream",
     "text": [
      "/Users/hopeloiselle/Documents/GitHub/hope-oyster2/scripts\r\n"
     ]
    }
   ],
   "source": [
    "!pwd"
   ]
  },
  {
   "cell_type": "code",
   "execution_count": 15,
   "metadata": {},
   "outputs": [],
   "source": [
    "!cd /Users/hopeloiselle/Documents/GitHub/hope-oyster2"
   ]
  },
  {
   "cell_type": "code",
   "execution_count": 16,
   "metadata": {},
   "outputs": [
    {
     "name": "stdout",
     "output_type": "stream",
     "text": [
      "[E::hts_open_format] Failed to open file analyses/sample1.bam\r\n",
      "samtools sort: can't open \"analyses/sample1.bam\": No such file or directory\r\n"
     ]
    }
   ],
   "source": [
    "!samtools sort -o analyses/sample1.sorted.bam analyses/sample1.bam"
   ]
  },
  {
   "cell_type": "code",
   "execution_count": 1,
   "metadata": {},
   "outputs": [
    {
     "name": "stdout",
     "output_type": "stream",
     "text": [
      "/bin/sh: analyses/sample1.bcf: No such file or directory\r\n"
     ]
    }
   ],
   "source": [
    "!samtools mpileup -g -f analyses/reference.fq analyses/sample1.sorted.bam > analyses/sample1.bcf"
   ]
  },
  {
   "cell_type": "code",
   "execution_count": null,
   "metadata": {},
   "outputs": [],
   "source": [
    "!samtools sort -o analyses/sample2.sorted.bam analyses/sample2.bam"
   ]
  },
  {
   "cell_type": "code",
   "execution_count": 4,
   "metadata": {},
   "outputs": [
    {
     "name": "stdout",
     "output_type": "stream",
     "text": [
      "/bin/sh: analyses/sample2.bcf: No such file or directory\r\n"
     ]
    }
   ],
   "source": [
    "!samtools mpileup -g -f analyses/reference.fq analyses/sample2.sorted.bam > analyses/sample2.bcf"
   ]
  },
  {
   "cell_type": "code",
   "execution_count": null,
   "metadata": {},
   "outputs": [],
   "source": []
  }
 ],
 "metadata": {
  "kernelspec": {
   "display_name": "Python 3",
   "language": "python",
   "name": "python3"
  },
  "language_info": {
   "codemirror_mode": {
    "name": "ipython",
    "version": 3
   },
   "file_extension": ".py",
   "mimetype": "text/x-python",
   "name": "python",
   "nbconvert_exporter": "python",
   "pygments_lexer": "ipython3",
   "version": "3.7.0"
  }
 },
 "nbformat": 4,
 "nbformat_minor": 2
}
