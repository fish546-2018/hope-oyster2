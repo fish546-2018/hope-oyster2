{
 "cells": [
  {
   "cell_type": "code",
   "execution_count": 11,
   "metadata": {},
   "outputs": [
    {
     "name": "stdout",
     "output_type": "stream",
     "text": [
      "  % Total    % Received % Xferd  Average Speed   Time    Time     Time  Current\n",
      "                                 Dload  Upload   Total   Spent    Left  Speed\n",
      "100  164M  100  164M    0     0  11.9M      0  0:00:13  0:00:13 --:--:-- 13.8M 0     0  10.4M      0  0:00:15  0:00:07  0:00:08 10.9M\n"
     ]
    }
   ],
   "source": [
    "!curl \\\n",
    "http://owl.fish.washington.edu/nightingales/O_lurida/20160223_gbs/1NF_2A_1.fq.gz \\\n",
    "    >../oysterdata/sample1A.fq.gz"
   ]
  },
  {
   "cell_type": "code",
   "execution_count": 10,
   "metadata": {},
   "outputs": [
    {
     "name": "stdout",
     "output_type": "stream",
     "text": [
      "  % Total    % Received % Xferd  Average Speed   Time    Time     Time  Current\n",
      "                                 Dload  Upload   Total   Spent    Left  Speed\n",
      "100  200M  100  200M    0     0  10.8M      0  0:00:18  0:00:18 --:--:-- 11.4M2M    0     0  9096k      0  0:00:22  0:00:08  0:00:14 10.0M  101M    0     0  9896k      0  0:00:20  0:00:10  0:00:10 14.0M\n"
     ]
    }
   ],
   "source": [
    "!curl \\\n",
    "http://owl.fish.washington.edu/nightingales/O_lurida/20160223_gbs/1NF_2A_2.fq.gz \\\n",
    "    >../oysterdata/sample1B.fq.gz"
   ]
  },
  {
   "cell_type": "code",
   "execution_count": 9,
   "metadata": {},
   "outputs": [
    {
     "name": "stdout",
     "output_type": "stream",
     "text": [
      "  % Total    % Received % Xferd  Average Speed   Time    Time     Time  Current\n",
      "                                 Dload  Upload   Total   Spent    Left  Speed\n",
      "100  130M  100  130M    0     0  11.5M      0  0:00:11  0:00:11 --:--:-- 15.8M\n"
     ]
    }
   ],
   "source": [
    "!curl \\\n",
    "http://owl.fish.washington.edu/nightingales/O_lurida/20160223_gbs/1SN_28A_1.fq.gz \\\n",
    "    >../oysterdata/sample2A.fq.gz"
   ]
  },
  {
   "cell_type": "code",
   "execution_count": 1,
   "metadata": {},
   "outputs": [
    {
     "name": "stdout",
     "output_type": "stream",
     "text": [
      "  % Total    % Received % Xferd  Average Speed   Time    Time     Time  Current\n",
      "                                 Dload  Upload   Total   Spent    Left  Speed\n",
      "100  164M  100  164M    0     0  11.2M      0  0:00:14  0:00:14 --:--:-- 12.6M\n"
     ]
    }
   ],
   "source": [
    "!curl \\\n",
    "http://owl.fish.washington.edu/nightingales/O_lurida/20160223_gbs/1SN_28A_2.fq.gz \\\n",
    "    >../oysterdata/sample2B.fq.gz"
   ]
  },
  {
   "cell_type": "code",
   "execution_count": 12,
   "metadata": {},
   "outputs": [],
   "source": [
    "!find ../oysterdata -name \"*.fq.gz\" > find.txt"
   ]
  },
  {
   "cell_type": "code",
   "execution_count": 13,
   "metadata": {},
   "outputs": [],
   "source": [
    "!find ../oysterdata -name \"*.fq.gz\" | xargs gunzip"
   ]
  },
  {
   "cell_type": "code",
   "execution_count": null,
   "metadata": {},
   "outputs": [],
   "source": [
    "!curl \\\n",
    "http://owl.fish.washington.edu/halfshell/genomic-databank/Olurida_v081.fa \\\n",
    "    >../oysterdata/reference.fq"
   ]
  },
  {
   "cell_type": "code",
   "execution_count": null,
   "metadata": {},
   "outputs": [],
   "source": [
    "!/Users/hopeloiselle/Documents/bowtie2/bowtie2-build \\\n",
    "../oysterdata/reference.fq oysterreference"
   ]
  },
  {
   "cell_type": "code",
   "execution_count": 17,
   "metadata": {},
   "outputs": [
    {
     "name": "stdout",
     "output_type": "stream",
     "text": [
      "^C\r\n"
     ]
    }
   ],
   "source": [
    "!find ../oysterdata -name \"*A.fq\" \\\n",
    "| xargs basename -s A.fq \\\n",
    "| xargs -I{} /Users/hopeloiselle/Documents/bowtie2/bowtie2 \\\n",
    "-x ../scripts/oysterreference \\\n",
    "-1 ../oysterdata/{}A.fq \\\n",
    "-2 ../oysterdata/{}B.fq \\\n",
    "-S ../analyses/{}.sam\n",
    "\n"
   ]
  },
  {
   "cell_type": "code",
   "execution_count": null,
   "metadata": {},
   "outputs": [],
   "source": [
    "\n",
    "\n"
   ]
  },
  {
   "cell_type": "code",
   "execution_count": 15,
   "metadata": {},
   "outputs": [
    {
     "name": "stdout",
     "output_type": "stream",
     "text": [
      "../oysterdata/sample1A.fq\r\n",
      "../oysterdata/sample2A.fq\r\n"
     ]
    }
   ],
   "source": []
  },
  {
   "cell_type": "code",
   "execution_count": null,
   "metadata": {},
   "outputs": [],
   "source": []
  }
 ],
 "metadata": {
  "kernelspec": {
   "display_name": "Python 3",
   "language": "python",
   "name": "python3"
  },
  "language_info": {
   "codemirror_mode": {
    "name": "ipython",
    "version": 3
   },
   "file_extension": ".py",
   "mimetype": "text/x-python",
   "name": "python",
   "nbconvert_exporter": "python",
   "pygments_lexer": "ipython3",
   "version": "3.7.0"
  }
 },
 "nbformat": 4,
 "nbformat_minor": 2
}
