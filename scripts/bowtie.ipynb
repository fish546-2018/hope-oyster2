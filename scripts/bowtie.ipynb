{
 "cells": [
  {
   "cell_type": "code",
   "execution_count": 1,
   "metadata": {},
   "outputs": [
    {
     "name": "stdout",
     "output_type": "stream",
     "text": [
      "  % Total    % Received % Xferd  Average Speed   Time    Time     Time  Current\n",
      "                                 Dload  Upload   Total   Spent    Left  Speed\n",
      "100 1090M  100 1090M    0     0  16.4M      0  0:01:06  0:01:06 --:--:-- 16.8M 0  16.4M      0  0:01:06  0:01:05  0:00:01 16.8M\n"
     ]
    }
   ],
   "source": [
    "!curl \\\n",
    "http://owl.fish.washington.edu/halfshell/genomic-databank/Olurida_v081.fa \\\n",
    "    >/Users/hopeloiselle/Documents/GitHub/hope-oyster2/data/reference.fq"
   ]
  },
  {
   "cell_type": "code",
   "execution_count": 6,
   "metadata": {},
   "outputs": [
    {
     "name": "stdout",
     "output_type": "stream",
     "text": [
      "gunzip: /Users/hopeloiselle/Documents/GitHub/hope-oyster/data/reference.fq.gz: not in gzip format\r\n"
     ]
    }
   ],
   "source": []
  },
  {
   "cell_type": "code",
   "execution_count": 2,
   "metadata": {},
   "outputs": [
    {
     "name": "stdout",
     "output_type": "stream",
     "text": [
      "Settings:\n",
      "  Output files: \"oysterreference.*.ebwt\"\n",
      "  Line rate: 6 (line is 64 bytes)\n",
      "  Lines per side: 1 (side is 64 bytes)\n",
      "  Offset rate: 5 (one in 32)\n",
      "  FTable chars: 10\n",
      "  Strings: unpacked\n",
      "  Max bucket size: default\n",
      "  Max bucket size, sqrt multiplier: default\n",
      "  Max bucket size, len divisor: 4\n",
      "  Difference-cover sample period: 1024\n",
      "  Endianness: little\n",
      "  Actual local endianness: little\n",
      "  Sanity checking: disabled\n",
      "  Assertions: disabled\n",
      "  Random seed: 0\n",
      "  Sizeofs: void*:8, int:4, long:8, size_t:8\n",
      "Input files DNA, FASTA:\n",
      "  /Users/hopeloiselle/Documents/GitHub/hope-oyster2/data/reference.fq\n",
      "Reading reference sizes\n",
      "  Time reading reference sizes: 00:00:15\n",
      "Calculating joined length\n",
      "Writing header\n",
      "Reserving space for joined string\n",
      "Joining reference sequences\n",
      "  Time to join reference sequences: 00:00:11\n",
      "bmax according to bmaxDivN setting: 269313774\n",
      "Using parameters --bmax 201985331 --dcv 1024\n",
      "  Doing ahead-of-time memory usage test\n",
      "  Passed!  Constructing with these parameters: --bmax 201985331 --dcv 1024\n",
      "Constructing suffix-array element generator\n",
      "Building DifferenceCoverSample\n",
      "  Building sPrime\n",
      "  Building sPrimeOrder\n",
      "  V-Sorting samples\n",
      "  V-Sorting samples time: 00:00:41\n",
      "  Allocating rank array\n",
      "  Ranking v-sort output\n",
      "  Ranking v-sort output time: 00:00:09\n",
      "  Invoking Larsson-Sadakane on ranks\n",
      "  Invoking Larsson-Sadakane on ranks time: 00:00:12\n",
      "  Sanity-checking and returning\n",
      "Building samples\n",
      "Reserving space for 12 sample suffixes\n",
      "Generating random suffixes\n",
      "QSorting 12 sample offsets, eliminating duplicates\n",
      "QSorting sample offsets, eliminating duplicates time: 00:00:00\n",
      "Multikey QSorting 12 samples\n",
      "  (Using difference cover)\n",
      "  Multikey QSorting samples time: 00:00:00\n",
      "Calculating bucket sizes\n",
      "Splitting and merging\n",
      "  Splitting and merging time: 00:00:00\n",
      "Avg bucket size: 1.07726e+09 (target: 201985330)\n",
      "Converting suffix-array elements to index image\n",
      "Allocating ftab, absorbFtab\n",
      "Entering Ebwt loop\n",
      "Getting block 1 of 1\n",
      "  No samples; assembling all-inclusive block\n",
      "  Sorting block of length 1077255099 for bucket 1\n",
      "  (Using difference cover)\n",
      "^C\n"
     ]
    }
   ],
   "source": [
    "!/Users/hopeloiselle/Documents/Bowtie/bowtie-build \\\n",
    "/Users/hopeloiselle/Documents/GitHub/hope-oyster2/data/reference.fq oysterreference\n"
   ]
  },
  {
   "cell_type": "code",
   "execution_count": 10,
   "metadata": {},
   "outputs": [],
   "source": [
    "!/Users/hopeloiselle/Documents/Bowtie/bowtie sample1A /Users/hopeloiselle/Documents/GitHub/hope-oyster2/data/sample1A.fq \\\n",
    "2> bowtieerror"
   ]
  },
  {
   "cell_type": "code",
   "execution_count": 4,
   "metadata": {},
   "outputs": [
    {
     "name": "stdout",
     "output_type": "stream",
     "text": [
      "Error reading _rstarts[] array: 6091976, 6092424\n",
      "Command: /Users/hopeloiselle/Documents/Bowtie/bowtie-align-s --wrapper basic-0 -q -1 /Users/hopeloiselle/Documents/GitHub/hope-oyster2/data/sample1A.fq -2 /Users/hopeloiselle/Documents/GitHub/hope-oyster2/data/sample1B.fq --quiet /Users/hopeloiselle/Documents/GitHub/hope-oyster2/analyses/oysterreference \n"
     ]
    }
   ],
   "source": [
    "! /Users/hopeloiselle/Documents/Bowtie/bowtie \\\n",
    "-q /Users/hopeloiselle/Documents/GitHub/hope-oyster2/analyses/oysterreference \\\n",
    "-1 /Users/hopeloiselle/Documents/GitHub/hope-oyster2/data/sample1A.fq \\\n",
    "-2 /Users/hopeloiselle/Documents/GitHub/hope-oyster2/data/sample1B.fq \\\n",
    "--quiet\n",
    "\n"
   ]
  },
  {
   "cell_type": "code",
   "execution_count": null,
   "metadata": {},
   "outputs": [],
   "source": []
  }
 ],
 "metadata": {
  "kernelspec": {
   "display_name": "Python 3",
   "language": "python",
   "name": "python3"
  },
  "language_info": {
   "codemirror_mode": {
    "name": "ipython",
    "version": 3
   },
   "file_extension": ".py",
   "mimetype": "text/x-python",
   "name": "python",
   "nbconvert_exporter": "python",
   "pygments_lexer": "ipython3",
   "version": "3.7.0"
  }
 },
 "nbformat": 4,
 "nbformat_minor": 2
}
