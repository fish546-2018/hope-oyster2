{
 "cells": [
  {
   "cell_type": "code",
   "execution_count": 7,
   "metadata": {},
   "outputs": [
    {
     "name": "stdout",
     "output_type": "stream",
     "text": [
      "  % Total    % Received % Xferd  Average Speed   Time    Time     Time  Current\n",
      "                                 Dload  Upload   Total   Spent    Left  Speed\n",
      "100 1090M  100 1090M    0     0  7521k      0  0:02:28  0:02:28 --:--:-- 11.5M0k      0  0:03:45  0:00:19  0:03:26 7060k 0:02:01 7433k  590M    0     0  6859k      0  0:02:42  0:01:28  0:01:14 8646k  0     0  6964k      0  0:02:40  0:01:34  0:01:06 8180k      0  0:02:32  0:02:16  0:00:16 5230k\n"
     ]
    }
   ],
   "source": [
    "!curl \\\n",
    "http://owl.fish.washington.edu/halfshell/genomic-databank/Olurida_v081.fa \\\n",
    "    >/Users/hopeloiselle/Documents/GitHub/hope-oyster/data/reference.fq"
   ]
  },
  {
   "cell_type": "code",
   "execution_count": 6,
   "metadata": {},
   "outputs": [
    {
     "name": "stdout",
     "output_type": "stream",
     "text": [
      "gunzip: /Users/hopeloiselle/Documents/GitHub/hope-oyster/data/reference.fq.gz: not in gzip format\r\n"
     ]
    }
   ],
   "source": []
  },
  {
   "cell_type": "code",
   "execution_count": 8,
   "metadata": {},
   "outputs": [
    {
     "name": "stdout",
     "output_type": "stream",
     "text": [
      "Settings:\n",
      "  Output files: \"oysterreference.*.ebwt\"\n",
      "  Line rate: 6 (line is 64 bytes)\n",
      "  Lines per side: 1 (side is 64 bytes)\n",
      "  Offset rate: 5 (one in 32)\n",
      "  FTable chars: 10\n",
      "  Strings: unpacked\n",
      "  Max bucket size: default\n",
      "  Max bucket size, sqrt multiplier: default\n",
      "  Max bucket size, len divisor: 4\n",
      "  Difference-cover sample period: 1024\n",
      "  Endianness: little\n",
      "  Actual local endianness: little\n",
      "  Sanity checking: disabled\n",
      "  Assertions: disabled\n",
      "  Random seed: 0\n",
      "  Sizeofs: void*:8, int:4, long:8, size_t:8\n",
      "Input files DNA, FASTA:\n",
      "  /Users/hopeloiselle/Documents/GitHub/hope-oyster/data/reference.fq\n",
      "Reading reference sizes\n",
      "  Time reading reference sizes: 00:00:13\n",
      "Calculating joined length\n",
      "Writing header\n",
      "Reserving space for joined string\n",
      "Joining reference sequences\n",
      "  Time to join reference sequences: 00:00:09\n",
      "bmax according to bmaxDivN setting: 269313774\n",
      "Using parameters --bmax 201985331 --dcv 1024\n",
      "  Doing ahead-of-time memory usage test\n",
      "  Passed!  Constructing with these parameters: --bmax 201985331 --dcv 1024\n",
      "Constructing suffix-array element generator\n",
      "Building DifferenceCoverSample\n",
      "  Building sPrime\n",
      "  Building sPrimeOrder\n",
      "  V-Sorting samples\n",
      "  V-Sorting samples time: 00:00:41\n",
      "  Allocating rank array\n",
      "  Ranking v-sort output\n",
      "  Ranking v-sort output time: 00:00:08\n",
      "  Invoking Larsson-Sadakane on ranks\n",
      "  Invoking Larsson-Sadakane on ranks time: 00:00:12\n",
      "  Sanity-checking and returning\n",
      "Building samples\n",
      "Reserving space for 12 sample suffixes\n",
      "Generating random suffixes\n",
      "QSorting 12 sample offsets, eliminating duplicates\n",
      "QSorting sample offsets, eliminating duplicates time: 00:00:00\n",
      "Multikey QSorting 12 samples\n",
      "  (Using difference cover)\n",
      "  Multikey QSorting samples time: 00:00:00\n",
      "Calculating bucket sizes\n",
      "Splitting and merging\n",
      "  Splitting and merging time: 00:00:00\n",
      "Avg bucket size: 1.07726e+09 (target: 201985330)\n",
      "Converting suffix-array elements to index image\n",
      "Allocating ftab, absorbFtab\n",
      "Entering Ebwt loop\n",
      "Getting block 1 of 1\n",
      "  No samples; assembling all-inclusive block\n",
      "  Sorting block of length 1077255099 for bucket 1\n",
      "  (Using difference cover)\n",
      "  Sorting block time: 00:17:51\n",
      "Returning block of 1077255100 for bucket 1\n",
      "Exited Ebwt loop\n",
      "fchr[A]: 0\n",
      "fchr[C]: 341519526\n",
      "fchr[G]: 538577822\n",
      "fchr[T]: 735626959\n",
      "fchr[$]: 1077255099\n",
      "Exiting Ebwt::buildToDisk()\n",
      "Returning from initFromVector\n",
      "Wrote 320687206 bytes to primary EBWT file: oysterreference.1.ebwt\n",
      "Wrote 134656892 bytes to secondary EBWT file: oysterreference.2.ebwt\n",
      "Re-opening _in1 and _in2 as input streams\n",
      "Returning from Ebwt constructor\n",
      "Headers:\n",
      "    len: 1077255099\n",
      "    bwtLen: 1077255100\n",
      "    sz: 269313775\n",
      "    bwtSz: 269313775\n",
      "    lineRate: 6\n",
      "    linesPerSide: 1\n",
      "    offRate: 5\n",
      "    offMask: 0xffffffe0\n",
      "    isaRate: -1\n",
      "    isaMask: 0xffffffff\n",
      "    ftabChars: 10\n",
      "    eftabLen: 20\n",
      "    eftabSz: 80\n",
      "    ftabLen: 1048577\n",
      "    ftabSz: 4194308\n",
      "    offsLen: 33664222\n",
      "    offsSz: 134656888\n",
      "    isaLen: 0\n",
      "    isaSz: 0\n",
      "    lineSz: 64\n",
      "    sideSz: 64\n",
      "    sideBwtSz: 56\n",
      "    sideBwtLen: 224\n",
      "    numSidePairs: 2404588\n",
      "    numSides: 4809176\n",
      "    numLines: 4809176\n",
      "    ebwtTotLen: 307787264\n",
      "    ebwtTotSz: 307787264\n",
      "    reverse: 0\n",
      "Total time for call to driver() for forward index: 00:24:01\n",
      "Reading reference sizes\n",
      "  Time reading reference sizes: 00:00:09\n",
      "Calculating joined length\n",
      "Writing header\n",
      "Reserving space for joined string\n",
      "Joining reference sequences\n",
      "  Time to join reference sequences: 00:00:09\n",
      "bmax according to bmaxDivN setting: 269313774\n",
      "Using parameters --bmax 201985331 --dcv 1024\n",
      "  Doing ahead-of-time memory usage test\n",
      "  Passed!  Constructing with these parameters: --bmax 201985331 --dcv 1024\n",
      "Constructing suffix-array element generator\n",
      "Building DifferenceCoverSample\n",
      "  Building sPrime\n",
      "  Building sPrimeOrder\n",
      "  V-Sorting samples\n",
      "  V-Sorting samples time: 00:00:43\n",
      "  Allocating rank array\n",
      "  Ranking v-sort output\n",
      "  Ranking v-sort output time: 00:00:10\n",
      "  Invoking Larsson-Sadakane on ranks\n",
      "  Invoking Larsson-Sadakane on ranks time: 00:00:12\n",
      "  Sanity-checking and returning\n",
      "Building samples\n",
      "Reserving space for 12 sample suffixes\n",
      "Generating random suffixes\n",
      "QSorting 12 sample offsets, eliminating duplicates\n",
      "QSorting sample offsets, eliminating duplicates time: 00:00:00\n",
      "Multikey QSorting 12 samples\n",
      "  (Using difference cover)\n",
      "  Multikey QSorting samples time: 00:00:00\n",
      "Calculating bucket sizes\n",
      "Splitting and merging\n",
      "  Splitting and merging time: 00:00:00\n",
      "Avg bucket size: 1.07726e+09 (target: 201985330)\n",
      "Converting suffix-array elements to index image\n",
      "Allocating ftab, absorbFtab\n",
      "Entering Ebwt loop\n",
      "Getting block 1 of 1\n",
      "  No samples; assembling all-inclusive block\n",
      "  Sorting block of length 1077255099 for bucket 1\n",
      "  (Using difference cover)\n",
      "^C\n"
     ]
    }
   ],
   "source": [
    "!/Users/hopeloiselle/Documents/Bowtie/bowtie-build \\\n",
    "/Users/hopeloiselle/Documents/GitHub/hope-oyster/data/reference.fq oysterreference\n"
   ]
  },
  {
   "cell_type": "code",
   "execution_count": 10,
   "metadata": {},
   "outputs": [],
   "source": [
    "!/Users/hopeloiselle/Documents/Bowtie/bowtie sample1A /Users/hopeloiselle/Documents/GitHub/hope-oyster/data/sample1A.fq \\\n",
    "2> bowtieerror"
   ]
  },
  {
   "cell_type": "code",
   "execution_count": 25,
   "metadata": {},
   "outputs": [
    {
     "name": "stdout",
     "output_type": "stream",
     "text": [
      "Error reading _rstarts[] array: 6091976, 6092424\r\n",
      "Command: /Users/hopeloiselle/Documents/Bowtie/bowtie-align-s --wrapper basic-0 -q -1 /Users/hopeloiselle/Documents/GitHub/hope-oyster/data/sample1A.fq -2 /Users/hopeloiselle/Documents/GitHub/hope-oyster/data/sample1B.fq --quiet /Users/hopeloiselle/Documents/GitHub/hope-oyster/analyses/oysterreference \r\n"
     ]
    }
   ],
   "source": [
    "! /Users/hopeloiselle/Documents/Bowtie/bowtie \\\n",
    "-q /Users/hopeloiselle/Documents/GitHub/hope-oyster/analyses/oysterreference \\\n",
    "-1 /Users/hopeloiselle/Documents/GitHub/hope-oyster/data/sample1A.fq \\\n",
    "-2 /Users/hopeloiselle/Documents/GitHub/hope-oyster/data/sample1B.fq \\\n",
    "--quiet\n",
    "\n"
   ]
  },
  {
   "cell_type": "code",
   "execution_count": null,
   "metadata": {},
   "outputs": [],
   "source": []
  }
 ],
 "metadata": {
  "kernelspec": {
   "display_name": "Python 3",
   "language": "python",
   "name": "python3"
  },
  "language_info": {
   "codemirror_mode": {
    "name": "ipython",
    "version": 3
   },
   "file_extension": ".py",
   "mimetype": "text/x-python",
   "name": "python",
   "nbconvert_exporter": "python",
   "pygments_lexer": "ipython3",
   "version": "3.7.0"
  }
 },
 "nbformat": 4,
 "nbformat_minor": 2
}
